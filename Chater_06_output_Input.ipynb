{
 "cells": [
  {
   "cell_type": "markdown",
   "id": "7527f584",
   "metadata": {},
   "source": [
    "# 6. 입력과 출력"
   ]
  },
  {
   "cell_type": "markdown",
   "id": "892ee0dd",
   "metadata": {},
   "source": [
    "## 6.1 화면 출력"
   ]
  },
  {
   "cell_type": "code",
   "execution_count": 1,
   "id": "d3d1e0fe",
   "metadata": {},
   "outputs": [
    {
     "name": "stdout",
     "output_type": "stream",
     "text": [
      "Hello Python!\n"
     ]
    }
   ],
   "source": [
    "print(\"Hello Python!\")"
   ]
  },
  {
   "cell_type": "markdown",
   "id": "d9a6318c",
   "metadata": {},
   "source": [
    "문자열 여러개를 연결하여 출력(자동으로 공백 발생)"
   ]
  },
  {
   "cell_type": "code",
   "execution_count": 2,
   "id": "69d6b891",
   "metadata": {},
   "outputs": [
    {
     "name": "stdout",
     "output_type": "stream",
     "text": [
      "Best python book\n"
     ]
    }
   ],
   "source": [
    "print(\"Best\",\"python\",\"book\")"
   ]
  },
  {
   "cell_type": "markdown",
   "id": "a0c6c3ac",
   "metadata": {},
   "source": [
    "sep활용(공백 대신 활용)"
   ]
  },
  {
   "cell_type": "code",
   "execution_count": 3,
   "id": "fd194c06",
   "metadata": {},
   "outputs": [
    {
     "name": "stdout",
     "output_type": "stream",
     "text": [
      "Best-python-book\n"
     ]
    }
   ],
   "source": [
    "print(\"Best\",\"python\",\"book\", sep = \"-\") # -뿐만 아니라 다양한 기호 등 사용가능함"
   ]
  },
  {
   "cell_type": "markdown",
   "id": "136a6be5",
   "metadata": {},
   "source": [
    "빈칸없이 문자를 연결할때 + 사용"
   ]
  },
  {
   "cell_type": "code",
   "execution_count": 4,
   "id": "f192e5c3",
   "metadata": {},
   "outputs": [
    {
     "name": "stdout",
     "output_type": "stream",
     "text": [
      "abcderf\n"
     ]
    }
   ],
   "source": [
    "print(\"abcd\" + \"erf\")"
   ]
  },
  {
   "cell_type": "markdown",
   "id": "3467db22",
   "metadata": {},
   "source": [
    "콤마와 + 같이 사용"
   ]
  },
  {
   "cell_type": "code",
   "execution_count": 5,
   "id": "a796b35f",
   "metadata": {},
   "outputs": [
    {
     "name": "stdout",
     "output_type": "stream",
     "text": [
      "Best python book : This book\n"
     ]
    }
   ],
   "source": [
    "print(\"Best\",\"python\",\"book \" +\":\",\"This book\")"
   ]
  },
  {
   "cell_type": "markdown",
   "id": "109ec27f",
   "metadata": {},
   "source": [
    "변수에 저장 된 내용을 출력 할 때"
   ]
  },
  {
   "cell_type": "code",
   "execution_count": 6,
   "id": "f258d21b",
   "metadata": {},
   "outputs": [
    {
     "name": "stdout",
     "output_type": "stream",
     "text": [
      "10\n",
      "x\n"
     ]
    }
   ],
   "source": [
    "x = 10\n",
    "print(x) # 변수가 담고 있는 내용인 10 출력\n",
    "print(\"x\") # 문자열 x 출력"
   ]
  },
  {
   "cell_type": "markdown",
   "id": "aa400927",
   "metadata": {},
   "source": [
    "문자열과 숫자를 함꼐 출력"
   ]
  },
  {
   "cell_type": "code",
   "execution_count": 7,
   "id": "f247eae0",
   "metadata": {},
   "outputs": [
    {
     "name": "stdout",
     "output_type": "stream",
     "text": [
      "Name:  James, ID Number:  789\n"
     ]
    }
   ],
   "source": [
    "name = \"James\"\n",
    "ID_num = 789\n",
    "print(\"Name: \",name+\",\",\"ID Number: \",ID_num ) \n",
    "# name, ID_num라는 변수들이 담고 있는 값을 가져오기, \",\" 를 통해 콤마 출력"
   ]
  },
  {
   "cell_type": "code",
   "execution_count": 8,
   "id": "46b6397d",
   "metadata": {},
   "outputs": [
    {
     "name": "stdout",
     "output_type": "stream",
     "text": [
      "Name:  Haha, ID Number:  123\n"
     ]
    }
   ],
   "source": [
    "name = \"Haha\"\n",
    "ID_num = 123\n",
    "print(\"Name: \",name+\",\",\"ID Number: \",ID_num ) "
   ]
  },
  {
   "cell_type": "markdown",
   "id": "f2d2bbab",
   "metadata": {},
   "source": [
    "여러줄로 출력하기 (개행문자 \\n)"
   ]
  },
  {
   "cell_type": "code",
   "execution_count": 9,
   "id": "38e7dae1",
   "metadata": {},
   "outputs": [
    {
     "name": "stdout",
     "output_type": "stream",
     "text": [
      "James is my friends.\n",
      "He is Korean.\n"
     ]
    }
   ],
   "source": [
    "print(\"James is my friends.\\nHe is Korean.\")"
   ]
  },
  {
   "cell_type": "markdown",
   "id": "7a6fdaf6",
   "metadata": {},
   "source": [
    "줄바꿈"
   ]
  },
  {
   "cell_type": "code",
   "execution_count": 10,
   "id": "2819d4b2",
   "metadata": {},
   "outputs": [
    {
     "name": "stdout",
     "output_type": "stream",
     "text": [
      "James is my friends.\n",
      "\n",
      "He is Korean.\n"
     ]
    }
   ],
   "source": [
    "print(\"James is my friends.\\n\\nHe is Korean.\")"
   ]
  },
  {
   "cell_type": "markdown",
   "id": "198ab73a",
   "metadata": {},
   "source": [
    "이스케이프 문자 예시"
   ]
  },
  {
   "cell_type": "code",
   "execution_count": 11,
   "id": "6c5afaaa",
   "metadata": {},
   "outputs": [
    {
     "name": "stdout",
     "output_type": "stream",
     "text": [
      "James is my friends.\tHe is Korean.\n"
     ]
    }
   ],
   "source": [
    "print(\"James is my friends.\\tHe is Korean.\")"
   ]
  },
  {
   "cell_type": "code",
   "execution_count": 12,
   "id": "552be77f",
   "metadata": {},
   "outputs": [
    {
     "name": "stdout",
     "output_type": "stream",
     "text": [
      "James is my friends.'He is Korean.'\n"
     ]
    }
   ],
   "source": [
    "print(\"James is my friends.\\'He is Korean.\\'\")"
   ]
  },
  {
   "cell_type": "code",
   "execution_count": 13,
   "id": "7e149a76",
   "metadata": {},
   "outputs": [
    {
     "name": "stdout",
     "output_type": "stream",
     "text": [
      "James is my friends.\"He is Korean.\" \n"
     ]
    }
   ],
   "source": [
    "print(\"James is my friends.\\\"He is Korean.\\\" \")"
   ]
  },
  {
   "cell_type": "markdown",
   "id": "9f741df3",
   "metadata": {},
   "source": [
    "줄을 바꾸지 않고 출력"
   ]
  },
  {
   "cell_type": "code",
   "execution_count": 14,
   "id": "bafbbb85",
   "metadata": {},
   "outputs": [
    {
     "name": "stdout",
     "output_type": "stream",
     "text": [
      "welcome to \n",
      "python!\n"
     ]
    }
   ],
   "source": [
    "print(\"welcome to \") # 공백을 인지하니까 주의하기\n",
    "print(\"python!\")"
   ]
  },
  {
   "cell_type": "markdown",
   "id": "dd6fb85f",
   "metadata": {},
   "source": [
    "두 줄로 출력된 결과를 한줄로 출력하기! - end 설정"
   ]
  },
  {
   "cell_type": "code",
   "execution_count": 15,
   "id": "a332b46c",
   "metadata": {},
   "outputs": [
    {
     "name": "stdout",
     "output_type": "stream",
     "text": [
      "Welcome to  python!\n",
      "Welcome to  school!\n"
     ]
    }
   ],
   "source": [
    "print(\"Welcome to  \",end=\"\") #파이썬은 뒤에 개행문자가 숨겨져있는데 end 설정을 통해서 한줄로 쓸 수 있음\n",
    "print(\"python!\")\n",
    "print(\"Welcome to  \",end=\"\") # 개행문자를 강제로 제거한다.\n",
    "print(\"school!\")"
   ]
  },
  {
   "cell_type": "code",
   "execution_count": 16,
   "id": "e2c41726",
   "metadata": {},
   "outputs": [
    {
     "name": "stdout",
     "output_type": "stream",
     "text": [
      "Welcome to  \tschool!\n"
     ]
    }
   ],
   "source": [
    "print(\"Welcome to  \",end=\"\\t\") # 개행문자를 변경 - tab으로!\n",
    "print(\"school!\")"
   ]
  },
  {
   "cell_type": "markdown",
   "id": "2c973957",
   "metadata": {},
   "source": [
    "## 형식 지정 출력"
   ]
  },
  {
   "cell_type": "markdown",
   "id": "10ca41b4",
   "metadata": {},
   "source": [
    "### 나머지 연산자(%)를 이용한 형식 및 위치 지정"
   ]
  },
  {
   "cell_type": "markdown",
   "id": "fd54412d",
   "metadata": {},
   "source": [
    "나머지 연산자를 이용한 데이터의 출력형식과 위치를 지정하는 구조<br>\n",
    "print(\"%type\" %data) <br>\n",
    "print(\"%type %type\"%(data1,data2))"
   ]
  },
  {
   "cell_type": "code",
   "execution_count": 17,
   "id": "35abecfa",
   "metadata": {},
   "outputs": [
    {
     "name": "stdout",
     "output_type": "stream",
     "text": [
      "광재는 나의 친구 입니다.\n"
     ]
    }
   ],
   "source": [
    "name =\"광재\"\n",
    "print(\"%s는 나의 친구 입니다.\" %name)"
   ]
  },
  {
   "cell_type": "code",
   "execution_count": 18,
   "id": "21b4cd73",
   "metadata": {},
   "outputs": [
    {
     "name": "stdout",
     "output_type": "stream",
     "text": [
      "반지름: 3, 원주율: 3.142593\n",
      "반지름: 3.000000, 원주율: 3.142593\n"
     ]
    }
   ],
   "source": [
    "r = 3 # int\n",
    "PI = 3.14259265368979 #float \n",
    "print(\"반지름: %d, 원주율: %f\" %(r,PI)) # 지정된 위치에 데이터 할당\n",
    "print(\"반지름: %f, 원주율: %f\" %(r,PI))"
   ]
  },
  {
   "cell_type": "code",
   "execution_count": 19,
   "id": "9927672f",
   "metadata": {},
   "outputs": [
    {
     "name": "stdout",
     "output_type": "stream",
     "text": [
      "이름은 James 이고, 번호는 1234, 점수는 78.500000 입니다\n"
     ]
    }
   ],
   "source": [
    "name = \"James\"\n",
    "number = 1234\n",
    "score = 78.5\n",
    "print(\"이름은 %s 이고, 번호는 %d, 점수는 %f 입니다\" %(name, number, score)) # %f는 6번째 짜리까지 출력가능"
   ]
  },
  {
   "cell_type": "markdown",
   "id": "3437529b",
   "metadata": {},
   "source": [
    "### 형식 지정 문자열에서 출력 위치 지정"
   ]
  },
  {
   "cell_type": "markdown",
   "id": "3920fc34",
   "metadata": {},
   "source": [
    "string.format을 이용하는 형식지정 문자열의 기본구조<br>\n",
    "많이 사용하니까 잘 익히기<br>\n",
    "print(\"{0},{1},{2}......{n}\".format(data_0,data_1,data_2, ......, data_n))"
   ]
  },
  {
   "cell_type": "code",
   "execution_count": 20,
   "id": "5a3546ce",
   "metadata": {},
   "outputs": [
    {
     "name": "stdout",
     "output_type": "stream",
     "text": [
      "Animal : cat\n",
      "Animal : cat,dog,fox\n"
     ]
    }
   ],
   "source": [
    "animal_0 = \"cat\"\n",
    "animal_1 = \"dog\"\n",
    "animal_2 = \"fox\"\n",
    "\n",
    "print(\"Animal : {0}\".format(animal_0))\n",
    "print(\"Animal : {0},{1},{2}\".format(animal_0,animal_1,animal_2))"
   ]
  },
  {
   "cell_type": "code",
   "execution_count": 21,
   "id": "76ab4872",
   "metadata": {},
   "outputs": [
    {
     "name": "stdout",
     "output_type": "stream",
     "text": [
      "Animal : cat\n",
      "Animal : fox,dog,cat\n"
     ]
    }
   ],
   "source": [
    "# 순서 바꿔서 출력하기\n",
    "animal_0 = \"cat\"\n",
    "animal_1 = \"dog\"\n",
    "animal_2 = \"fox\"\n",
    "\n",
    "print(\"Animal : {}\".format(animal_0))\n",
    "print(\"Animal : {},{},{}\".format(animal_2,animal_1,animal_0)) # format()에 쓰인 순서를 인덱스로 사용한다"
   ]
  },
  {
   "cell_type": "markdown",
   "id": "7e83b202",
   "metadata": {},
   "source": [
    "#### format()에 쓰인 순서를 인덱스로 사용한다."
   ]
  },
  {
   "cell_type": "code",
   "execution_count": 22,
   "id": "e16049cb",
   "metadata": {},
   "outputs": [
    {
     "name": "stdout",
     "output_type": "stream",
     "text": [
      "Animal : fox,dog,cat\n",
      "Animal : fox,dog,fox\n",
      "Animal : cat,cat,cat\n"
     ]
    }
   ],
   "source": [
    "animal_0 = \"cat\"\n",
    "animal_1 = \"dog\"\n",
    "animal_2 = \"fox\"\n",
    "\n",
    "print(\"Animal : {0},{1},{2}\".format(animal_2,animal_1,animal_0)) # format()에 쓰인 순서를 인덱스로 사용한다\n",
    "print(\"Animal : {2},{1},{2}\".format(animal_0,animal_1,animal_2)) # 인덱스를 통해 출력 - fox 두번 출력\n",
    "print(\"Animal : {0},{0},{0}\".format(animal_0,animal_1,animal_2)) # 인덱스를 통해 출력 - cat 세번 출력"
   ]
  },
  {
   "cell_type": "markdown",
   "id": "532d9b85",
   "metadata": {},
   "source": [
    "출력 위치 변경"
   ]
  },
  {
   "cell_type": "code",
   "execution_count": 23,
   "id": "2e9e50f8",
   "metadata": {},
   "outputs": [
    {
     "name": "stdout",
     "output_type": "stream",
     "text": [
      "Animal : dog,fox,cat\n"
     ]
    }
   ],
   "source": [
    "animal_0 = \"cat\"\n",
    "animal_1 = \"dog\"\n",
    "animal_2 = \"fox\"\n",
    "\n",
    "print(\"Animal : {1},{2},{0}\".format(animal_0,animal_1,animal_2)) # 인덱스를 통해 출력 - fox 두번 출력"
   ]
  },
  {
   "cell_type": "markdown",
   "id": "ae4d0520",
   "metadata": {},
   "source": [
    "일부만 출력"
   ]
  },
  {
   "cell_type": "code",
   "execution_count": 24,
   "id": "199f0c3b",
   "metadata": {},
   "outputs": [
    {
     "name": "stdout",
     "output_type": "stream",
     "text": [
      "Animal : cat,fox\n"
     ]
    }
   ],
   "source": [
    "animal_0 = \"cat\"\n",
    "animal_1 = \"dog\"\n",
    "animal_2 = \"fox\"\n",
    "\n",
    "print(\"Animal : {0},{2}\".format(animal_0,animal_1,animal_2)) # 인덱스를 통해 출력 - fox 두번 출력"
   ]
  },
  {
   "cell_type": "markdown",
   "id": "ea340d53",
   "metadata": {},
   "source": [
    "순차적으로 데이터 순서를 지정하려면 생략가능"
   ]
  },
  {
   "cell_type": "code",
   "execution_count": 25,
   "id": "10f6a4ea",
   "metadata": {},
   "outputs": [
    {
     "name": "stdout",
     "output_type": "stream",
     "text": [
      "Animal : fox,dog,cat\n"
     ]
    }
   ],
   "source": [
    "print(\"Animal : {},{},{}\".format(animal_2,animal_1,animal_0)) # format()에 쓰인 순서를 인덱스로 사용한다"
   ]
  },
  {
   "cell_type": "markdown",
   "id": "45f4b377",
   "metadata": {},
   "source": [
    "정수나 실수도 출력 가능 <br>\n",
    "문자열을 변수에 대입한 후 변수를 불러서 출력 실수의 경우 17자리까지 표현되며 반 올림이 되어 출력한다."
   ]
  },
  {
   "cell_type": "code",
   "execution_count": 26,
   "id": "fa38b654",
   "metadata": {},
   "outputs": [
    {
     "name": "stdout",
     "output_type": "stream",
     "text": [
      "String: Tomas, Interger Number: 10, Floateing Number: 0.12345678901234568\n"
     ]
    }
   ],
   "source": [
    "name = \"Tomas\"\n",
    "age = 10\n",
    "a = 0.1234567890123456789\n",
    "fmt_string = \"String: {0}, Interger Number: {1}, Floateing Number: {2}\" # 결과를 통해서 f형식이 17자리까지! 마지막 자리에서 반올림\n",
    "print(fmt_string.format(name, age, a))"
   ]
  },
  {
   "cell_type": "code",
   "execution_count": 27,
   "id": "1f9264f9",
   "metadata": {},
   "outputs": [
    {
     "name": "stdout",
     "output_type": "stream",
     "text": [
      "Floateing Number: 0.1234\n",
      "Floateing Number: 0.12345678\n",
      "Floateing Number: 0.123456789012\n",
      "Floateing Number: 0.1234567890123456\n",
      "Floateing Number: 0.12345678901234568\n"
     ]
    }
   ],
   "source": [
    "a = 0.1234\n",
    "b = 0.12345678\n",
    "c = 0.123456789012\n",
    "d = 0.1234567890123456  \n",
    "e = 0.1234567890123456789\n",
    "fmt_string = \"Floateing Number: {0}\\nFloateing Number: {1}\\nFloateing Number: {2}\\nFloateing Number: {3}\\nFloateing Number: {4}\" \n",
    "print(fmt_string.format(a,b,c,d,e))"
   ]
  },
  {
   "cell_type": "markdown",
   "id": "4c57d57e",
   "metadata": {},
   "source": [
    "### 형식 지정 문자열에서 숫자 출력 형식 지정"
   ]
  },
  {
   "cell_type": "markdown",
   "id": "0cee2dde",
   "metadata": {},
   "source": [
    "데이터가 숫자일 경우{N:'출력형식'을 지정하여 다양한 형태로 출력이 가능}"
   ]
  },
  {
   "cell_type": "code",
   "execution_count": 28,
   "id": "30d5c10c",
   "metadata": {},
   "outputs": [
    {
     "name": "stdout",
     "output_type": "stream",
     "text": [
      "0.12\n",
      "0.123457\n",
      "0.1234567890123456773698862320998159702867269515991210937500000000000000000000000000000000000000000000\n",
      "                                                                                            0.123457\n",
      "0.12\n",
      "0.123400\n"
     ]
    }
   ],
   "source": [
    "a = 0.1234567890123456789\n",
    "b = 0.1234\n",
    "\n",
    "print(\"{0:.2f}\\n{0:5f}\\n{0:.100f}\\n{0:100f}\".format(a)) #어느 자리까지 출력할 것인지 지정\n",
    "#n은 foramt에서 순서대로 지정(인덱스 처럼)\n",
    "print(\"{0:.2f}\\n{1:5f}\".format(a,b)) #어느 자리까지 출력할 것인지 지정"
   ]
  },
  {
   "cell_type": "markdown",
   "id": "f5215ad5",
   "metadata": {},
   "source": [
    "## 6.1 키보드 입력"
   ]
  },
  {
   "cell_type": "markdown",
   "id": "b3a9272a",
   "metadata": {},
   "source": [
    "data = input(\"문자열\")"
   ]
  },
  {
   "cell_type": "code",
   "execution_count": 29,
   "id": "c01c0c49",
   "metadata": {},
   "outputs": [
    {
     "name": "stdout",
     "output_type": "stream",
     "text": [
      "당신의 이름은? 이재은\n",
      "당신의 이름은 이재은이군요! 환영합니다.\n"
     ]
    }
   ],
   "source": [
    "yourName = input(\"당신의 이름은? \")\n",
    "print(\"당신의 이름은 {}이군요! 환영합니다.\".format(yourName))"
   ]
  },
  {
   "cell_type": "markdown",
   "id": "bbc103e9",
   "metadata": {},
   "source": [
    "숫자를 입력한 예"
   ]
  },
  {
   "cell_type": "code",
   "execution_count": 30,
   "id": "51372066",
   "metadata": {},
   "outputs": [
    {
     "name": "stdout",
     "output_type": "stream",
     "text": [
      "숫자를 입력하세요: 2\n",
      "당신이 입력한 숫자는 2입니다.\n"
     ]
    }
   ],
   "source": [
    "num = input(\"숫자를 입력하세요: \")\n",
    "print(\"당신이 입력한 숫자는 {}입니다.\".format(num))"
   ]
  },
  {
   "cell_type": "code",
   "execution_count": 31,
   "id": "0cb30fff",
   "metadata": {},
   "outputs": [
    {
     "name": "stdout",
     "output_type": "stream",
     "text": [
      "당신의 이름은? 이재은\n",
      "당신의 이름은 '이재은'입니다.\n",
      "원하는 닉네임을 입력하세요: 젤리\n",
      "젤리님, 환영합니다.\n"
     ]
    }
   ],
   "source": [
    "name = input(\"당신의 이름은? \")\n",
    "print(\"당신의 이름은 \\'{}\\'입니다.\".format(name))\n",
    "nickname = input(\"원하는 닉네임을 입력하세요: \")\n",
    "print(\"{}님, 환영합니다.\".format(nickname))"
   ]
  },
  {
   "cell_type": "markdown",
   "id": "4ddc1667",
   "metadata": {},
   "source": [
    "숫자를 연산에 이용하기 위해서는 변환해야 함 - 정수만 처리가능"
   ]
  },
  {
   "cell_type": "code",
   "execution_count": 32,
   "id": "ade0b1b0",
   "metadata": {},
   "outputs": [
    {
     "name": "stdout",
     "output_type": "stream",
     "text": [
      "정사각형 한 변의 길이는? 3\n",
      "정사각형의 넓이: 9\n"
     ]
    }
   ],
   "source": [
    "a = input(\"정사각형 한 변의 길이는? \") # 입력은 문자열 형식이라서 사용하기위해 형변환이 필요하다.\n",
    "area = int(a) ** 2\n",
    "print(\"정사각형의 넓이: {}\".format(area))"
   ]
  },
  {
   "cell_type": "code",
   "execution_count": 33,
   "id": "bee5a4f7",
   "metadata": {},
   "outputs": [
    {
     "name": "stdout",
     "output_type": "stream",
     "text": [
      "정사각형 한 변의 길이는? 1.5\n"
     ]
    },
    {
     "ename": "ValueError",
     "evalue": "invalid literal for int() with base 10: '1.5'",
     "output_type": "error",
     "traceback": [
      "\u001b[1;31m---------------------------------------------------------------------------\u001b[0m",
      "\u001b[1;31mValueError\u001b[0m                                Traceback (most recent call last)",
      "\u001b[1;32m~\\AppData\\Local\\Temp\\ipykernel_9624\\3528091184.py\u001b[0m in \u001b[0;36m<module>\u001b[1;34m\u001b[0m\n\u001b[0;32m      1\u001b[0m \u001b[0ma\u001b[0m \u001b[1;33m=\u001b[0m \u001b[0minput\u001b[0m\u001b[1;33m(\u001b[0m\u001b[1;34m\"정사각형 한 변의 길이는? \"\u001b[0m\u001b[1;33m)\u001b[0m \u001b[1;31m# 입력은 문자열 형식이라서 사용하기위해 형변환이 필요하다.\u001b[0m\u001b[1;33m\u001b[0m\u001b[1;33m\u001b[0m\u001b[0m\n\u001b[1;32m----> 2\u001b[1;33m \u001b[0marea\u001b[0m \u001b[1;33m=\u001b[0m \u001b[0mint\u001b[0m\u001b[1;33m(\u001b[0m\u001b[0ma\u001b[0m\u001b[1;33m)\u001b[0m \u001b[1;33m**\u001b[0m \u001b[1;36m2\u001b[0m\u001b[1;33m\u001b[0m\u001b[1;33m\u001b[0m\u001b[0m\n\u001b[0m\u001b[0;32m      3\u001b[0m \u001b[0mprint\u001b[0m\u001b[1;33m(\u001b[0m\u001b[1;34m\"정사각형의 넓이: {}\"\u001b[0m\u001b[1;33m.\u001b[0m\u001b[0mformat\u001b[0m\u001b[1;33m(\u001b[0m\u001b[0marea\u001b[0m\u001b[1;33m)\u001b[0m\u001b[1;33m)\u001b[0m\u001b[1;33m\u001b[0m\u001b[1;33m\u001b[0m\u001b[0m\n",
      "\u001b[1;31mValueError\u001b[0m: invalid literal for int() with base 10: '1.5'"
     ]
    }
   ],
   "source": [
    "a = input(\"정사각형 한 변의 길이는? \") # 입력은 문자열 형식이라서 사용하기위해 형변환이 필요하다.\n",
    "area = int(a) ** 2\n",
    "print(\"정사각형의 넓이: {}\".format(area))"
   ]
  },
  {
   "cell_type": "markdown",
   "id": "7c3f872b",
   "metadata": {},
   "source": [
    "실수의 경우(정수인지 모르는 경우 실수로 처리하는 것이 좋음) - 정수, 실수 둘다 처리 가능"
   ]
  },
  {
   "cell_type": "code",
   "execution_count": 34,
   "id": "a6655ef7",
   "metadata": {},
   "outputs": [
    {
     "name": "stdout",
     "output_type": "stream",
     "text": [
      "정사각형 한 변의 길이는? 3\n",
      "정사각형의 넓이: 9.0\n"
     ]
    }
   ],
   "source": [
    "b = input(\"정사각형 한 변의 길이는? \")\n",
    "area = float(b) ** 2\n",
    "print(\"정사각형의 넓이: {}\".format(area))"
   ]
  },
  {
   "cell_type": "code",
   "execution_count": 73,
   "id": "1a7b3d4e",
   "metadata": {},
   "outputs": [
    {
     "name": "stdout",
     "output_type": "stream",
     "text": [
      "정사각형 한 변의 길이는? 1.5\n",
      "정사각형의 넓이: 2.25\n"
     ]
    }
   ],
   "source": [
    "b = input(\"정사각형 한 변의 길이는? \")\n",
    "area = float(b) ** 2\n",
    "print(\"정사각형의 넓이: {}\".format(area))"
   ]
  },
  {
   "cell_type": "markdown",
   "id": "e03682fb",
   "metadata": {},
   "source": [
    "print(f \" {변수명} \") "
   ]
  },
  {
   "cell_type": "code",
   "execution_count": 36,
   "id": "5504983f",
   "metadata": {
    "scrolled": true
   },
   "outputs": [
    {
     "name": "stdout",
     "output_type": "stream",
     "text": [
      "정사각형 한 변의 길이는? 1.5\n",
      "정사각형의 넓이: 2.25\n"
     ]
    }
   ],
   "source": [
    "b = input(\"정사각형 한 변의 길이는? \")\n",
    "area = float(b) ** 2\n",
    "print(f\"정사각형의 넓이: {area}\")"
   ]
  },
  {
   "cell_type": "markdown",
   "id": "85685f99",
   "metadata": {},
   "source": [
    "### 복습하기"
   ]
  },
  {
   "cell_type": "code",
   "execution_count": 38,
   "id": "16de9427",
   "metadata": {},
   "outputs": [
    {
     "name": "stdout",
     "output_type": "stream",
     "text": [
      "임시 - 회원 가입\n",
      "이름을 입력하세요: 이재은\n",
      "ID를 입력하세요: a1\n",
      "비밀번호를 입력하세요: asdf\n",
      "비밀번호를 입력하세요: asdf\n",
      "회원가입 완료!\n",
      "a1님, 환영합니다.\n"
     ]
    }
   ],
   "source": [
    "print(\"임시 - 회원 가입\")\n",
    "name = input(\"이름을 입력하세요: \")\n",
    "id = input(\"ID를 입력하세요: \")\n",
    "password1 = input(\"비밀번호를 입력하세요: \") # 비밀번호가 그대로 노출된다!\n",
    "password2 = input(\"비밀번호를 입력하세요: \")\n",
    "if password1 == password2:\n",
    "    print(\"회원가입 완료!\")\n",
    "    print(\"{0}님, 환영합니다.\".format(id))\n",
    "else:\n",
    "    print(\"비밀번호가 일치하지 않습니다.\")"
   ]
  },
  {
   "cell_type": "code",
   "execution_count": 39,
   "id": "cd3d2218",
   "metadata": {},
   "outputs": [
    {
     "name": "stdout",
     "output_type": "stream",
     "text": [
      "임시 - 회원 가입\n",
      "이름을 입력하세요: 이재은\n",
      "ID를 입력하세요: asdf\n",
      "비밀번호를 입력하세요: asdf\n",
      "비밀번호를 입력하세요: asss\n",
      "비밀번호가 일치하지 않습니다.\n",
      "비밀번호를 입력하세요: asdf\n",
      "비밀번호를 입력하세요: asdf\n",
      "회원가입 완료!\n",
      "asdf님, 환영합니다.\n"
     ]
    }
   ],
   "source": [
    "print(\"임시 - 회원 가입\")\n",
    "name = input(\"이름을 입력하세요: \")\n",
    "id = input(\"ID를 입력하세요: \")\n",
    "while True:\n",
    "    password1 = input(\"비밀번호를 입력하세요: \") # 비밀번호가 그대로 노출된다!\n",
    "    password2 = input(\"비밀번호를 입력하세요: \")\n",
    "    if password1 == password2:\n",
    "        break\n",
    "    else:\n",
    "        print(\"비밀번호가 일치하지 않습니다.\")\n",
    "        continue\n",
    "print(\"회원가입 완료!\")\n",
    "print(\"{0}님, 환영합니다.\".format(id))"
   ]
  }
 ],
 "metadata": {
  "kernelspec": {
   "display_name": "Python 3 (ipykernel)",
   "language": "python",
   "name": "python3"
  },
  "language_info": {
   "codemirror_mode": {
    "name": "ipython",
    "version": 3
   },
   "file_extension": ".py",
   "mimetype": "text/x-python",
   "name": "python",
   "nbconvert_exporter": "python",
   "pygments_lexer": "ipython3",
   "version": "3.9.13"
  }
 },
 "nbformat": 4,
 "nbformat_minor": 5
}
