{
 "cells": [
  {
   "cell_type": "markdown",
   "id": "9ab7a238",
   "metadata": {},
   "source": [
    "# 6 입력과 출력"
   ]
  },
  {
   "cell_type": "markdown",
   "id": "e7be40a2",
   "metadata": {},
   "source": [
    "## 6.3 파일 읽고 쓰기\n",
    "출력결과를 화면이 아니라 파일로 출력하거나 읽어야 하는 경우"
   ]
  },
  {
   "cell_type": "markdown",
   "id": "15dfe88d",
   "metadata": {},
   "source": [
    "## 파일 열기\n",
    "내장 함수인 open()을 이용해 파일을 열어야한다 <br>\n",
    "f = open('file_name','mode')<br>\n",
    "file_name = 열고자 하는 파일<br>\n",
    "mode = 파일의 속성"
   ]
  },
  {
   "cell_type": "markdown",
   "id": "a7e7198c",
   "metadata": {},
   "source": [
    "r = 읽기모드로 파일열기(기본)<br>\n",
    "w = 쓰기모드로 파일열기. 같은 이름의 파일이 있을 경우 기존 내용은 모두 삭제 됨.<br>\n",
    "x = 쓰기모드로 파일열기. 같은 이름의 파일이 있을 경우 오류가 밠생함<br>\n",
    "a = 추가 모드로. 파일열기 같은 이름의 파일이 있는 경우 w와 같음<br>\n",
    "b = 바이너리 모드로 파일열기<br>\n",
    "t = 텍스트 파일 모드로 파일열기(기본), 지정하지 않으면 기본적으로 텍스트 모드로 지정됨"
   ]
  },
  {
   "cell_type": "markdown",
   "id": "0a963b4e",
   "metadata": {},
   "source": [
    "파일 쓰기<br>\n",
    "f = open('file_name','w')<br>\n",
    "f.writer(str)<br>\n",
    "f.close<br>"
   ]
  },
  {
   "cell_type": "markdown",
   "id": "1a10b7d2",
   "metadata": {},
   "source": [
    "폴더로 이동하기 명령"
   ]
  },
  {
   "cell_type": "code",
   "execution_count": 6,
   "id": "09e2bcb6",
   "metadata": {},
   "outputs": [
    {
     "name": "stdout",
     "output_type": "stream",
     "text": [
      "C:\\myPyCode\n"
     ]
    }
   ],
   "source": [
    "cd C:\\myPyCode"
   ]
  },
  {
   "cell_type": "markdown",
   "id": "774c4a3d",
   "metadata": {},
   "source": [
    "파일을 쓰기모드로 열고. 문자열 입력 후 파일 닫기 코드"
   ]
  },
  {
   "cell_type": "code",
   "execution_count": 7,
   "id": "9eae0399",
   "metadata": {},
   "outputs": [],
   "source": [
    "f = open('myFile.txt','w')                       # 1. 파일 쓰기 모드로 열기(메모장)\n",
    "f.write('hi! This is my first file.')             # 2. 연 파일에 문자열 쓰기 \n",
    "f.close()                                         # 3. 파일닫기 "
   ]
  },
  {
   "cell_type": "markdown",
   "id": "bf7c8244",
   "metadata": {},
   "source": [
    "주석을 달면 오류발생 - 내용 확인"
   ]
  },
  {
   "cell_type": "code",
   "execution_count": 8,
   "id": "a251dd58",
   "metadata": {},
   "outputs": [
    {
     "name": "stdout",
     "output_type": "stream",
     "text": [
      "hi! This is my first file.\n"
     ]
    }
   ],
   "source": [
    "!type myFile.txt "
   ]
  },
  {
   "cell_type": "markdown",
   "id": "66d4f6a1",
   "metadata": {},
   "source": [
    "## 파일 읽기"
   ]
  },
  {
   "cell_type": "code",
   "execution_count": 9,
   "id": "67179495",
   "metadata": {},
   "outputs": [
    {
     "name": "stdout",
     "output_type": "stream",
     "text": [
      "hi! This is my first file.\n"
     ]
    }
   ],
   "source": [
    "f = open('myFile.txt') #1. 'myFile.txt' 파일 읽기 모드로 열기\n",
    "file_text = f.read()   #2. 파일 내용 읽은 후에 변수에 저장\n",
    "f.close()              #3. 파일 닫기\n",
    "\n",
    "print(file_text)       # 변수에 저장된 내용 출력"
   ]
  },
  {
   "cell_type": "code",
   "execution_count": 10,
   "id": "f7dc212a",
   "metadata": {},
   "outputs": [
    {
     "name": "stdout",
     "output_type": "stream",
     "text": [
      "This is my file! nice meet you!\n"
     ]
    }
   ],
   "source": [
    "f = open('myFile1.txt') #1. 'myFile.txt' 파일 읽기 모드로 열기 # 메모장에 쓰고 저장한 파일도 불러올 수 있다.\n",
    "file_text = f.read()   #2. 파일 내용 읽은 후에 변수에 저장\n",
    "f.close()              #3. 파일 닫기\n",
    "\n",
    "print(file_text) "
   ]
  },
  {
   "cell_type": "markdown",
   "id": "be1a998c",
   "metadata": {},
   "source": [
    "## 6.4 반복문을 이용해 파일 읽고 쓰기\n",
    "## 파일에 문자열 한 줄씩 쓰기"
   ]
  },
  {
   "cell_type": "code",
   "execution_count": 20,
   "id": "f9255b8c",
   "metadata": {},
   "outputs": [],
   "source": [
    "f = open('two_times_table.txt', 'w')    # 1. myFile.txt 파일 쓰기모드로 열기\n",
    "for num in range(1,6):                  # 2. for문: num이 1~5까지 반복\n",
    "    format_string = \"2 x {0} = {1}\\n\".format(num,2*num) # 3. 저장할 문자열 생성\n",
    "    f.write(format_string)               # 3. 파일에 문자열 저장\n",
    "f.close()                                 # 4. 파일 닫기"
   ]
  },
  {
   "cell_type": "code",
   "execution_count": 21,
   "id": "1a2b1d63",
   "metadata": {},
   "outputs": [
    {
     "name": "stdout",
     "output_type": "stream",
     "text": [
      "2 x 1 = 2\n",
      "2 x 2 = 4\n",
      "2 x 3 = 6\n",
      "2 x 4 = 8\n",
      "2 x 5 = 10\n"
     ]
    }
   ],
   "source": [
    "! type two_times_table.txt"
   ]
  },
  {
   "cell_type": "markdown",
   "id": "c14577f9",
   "metadata": {},
   "source": [
    "readline()"
   ]
  },
  {
   "cell_type": "code",
   "execution_count": 22,
   "id": "4d74b3e9",
   "metadata": {},
   "outputs": [
    {
     "name": "stdout",
     "output_type": "stream",
     "text": [
      "2 x 1 = 2\n",
      "2 x 2 = 4\n"
     ]
    }
   ],
   "source": [
    "f = open(\"two_times_table.txt\") # 파일을 읽기 모드로 열기\n",
    "line1 = f.readline()            # 한줄씩 문자열을 읽기\n",
    "line2 = f.readline()\n",
    "f.close()\n",
    "print(line1, end=\"\")            # 파일 닫기\n",
    "print(line2, end=\"\")            # 한줄씩 문자열 출력(줄바꿈 안함)"
   ]
  },
  {
   "cell_type": "code",
   "execution_count": 23,
   "id": "da4c1d04",
   "metadata": {},
   "outputs": [
    {
     "name": "stdout",
     "output_type": "stream",
     "text": [
      "2 x 1 = 2\n",
      "2 x 2 = 4\n",
      "2 x 3 = 6\n",
      "2 x 4 = 8\n",
      "2 x 5 = 10\n"
     ]
    }
   ],
   "source": [
    "f = open(\"two_times_table.txt\") # 파일을 읽기 모드로 열기\n",
    "line = f.readline()              #문자열 한 줄 열기\n",
    "while line:                     # line 공백인지 검사해서 반복 여부 결정\n",
    "    print(line, end=\"\")          # 문자열 한 줄 출력(줄 바꿈 안함)\n",
    "    line = f.readline()          # 문자열 한 줄 읽기\n",
    "f.close()"
   ]
  },
  {
   "cell_type": "markdown",
   "id": "5e679e6d",
   "metadata": {},
   "source": [
    "### readlines()\n",
    "한꺼번에 출력한다."
   ]
  },
  {
   "cell_type": "code",
   "execution_count": 24,
   "id": "df0a356a",
   "metadata": {},
   "outputs": [
    {
     "name": "stdout",
     "output_type": "stream",
     "text": [
      "['2 x 1 = 2\\n', '2 x 2 = 4\\n', '2 x 3 = 6\\n', '2 x 4 = 8\\n', '2 x 5 = 10\\n']\n"
     ]
    }
   ],
   "source": [
    "f= open(\"two_times_table.txt\")       #파일을 읽기 모드로 열기\n",
    "lines = f.readlines()                # 파일 전체 읽기(리스트로 반환)\n",
    "f.close()                            # 파일 닫기\n",
    "print(lines)                         # 리스트 변수 내용 출력"
   ]
  },
  {
   "cell_type": "markdown",
   "id": "e6b532bd",
   "metadata": {},
   "source": [
    "for문을 이용하여 전체 읽기"
   ]
  },
  {
   "cell_type": "code",
   "execution_count": 25,
   "id": "48fc18e4",
   "metadata": {},
   "outputs": [
    {
     "name": "stdout",
     "output_type": "stream",
     "text": [
      "2 x 1 = 2\n",
      "2 x 2 = 4\n",
      "2 x 3 = 6\n",
      "2 x 4 = 8\n",
      "2 x 5 = 10\n"
     ]
    }
   ],
   "source": [
    "f = open(\"two_times_table.txt\") # 파일을 읽기 모드로 열기\n",
    "lines = f.readlines()           # 파일 전체 읽기(리스트로 반환)\n",
    "f.close()                       # 파일 닫기\n",
    "for line in lines:             # 리스트를 <반복 범위>로 지정\n",
    "    print(line, end=\"\")         # 리스트 항목을 출력(줄 바꿈 안 함)"
   ]
  },
  {
   "cell_type": "markdown",
   "id": "1bf0a263",
   "metadata": {},
   "source": [
    "## with 문을 활용해 파일 읽고 쓰기"
   ]
  },
  {
   "cell_type": "markdown",
   "id": "f379b9d4",
   "metadata": {},
   "source": [
    "with문의 구조\n",
    "with open('file_name', 'mode') as f: <br>\n",
    "        <코드블록>"
   ]
  },
  {
   "cell_type": "code",
   "execution_count": 48,
   "id": "9991c8e8",
   "metadata": {},
   "outputs": [],
   "source": [
    "f = open('myTextFile.txt','w')                       # 1. 파일 열기\n",
    "f.write(' File write/read test.')                    # 2. 파일 쓰기\n",
    "f.close()                                            # 3. 파일 닫기"
   ]
  },
  {
   "cell_type": "code",
   "execution_count": 49,
   "id": "8db1ffb4",
   "metadata": {},
   "outputs": [
    {
     "name": "stdout",
     "output_type": "stream",
     "text": [
      " File write/read test.\n"
     ]
    }
   ],
   "source": [
    "f = open('myTextFile.txt','r')                       # 1. 파일 열기\n",
    "test = f.read()                                      # 2. 파일 쓰기\n",
    "f.close()                                            # 3. 파일 닫기\n",
    "print(test)"
   ]
  },
  {
   "cell_type": "markdown",
   "id": "b1b2f1da",
   "metadata": {},
   "source": [
    "## with 문의 활용"
   ]
  },
  {
   "cell_type": "code",
   "execution_count": 54,
   "id": "22f4251a",
   "metadata": {},
   "outputs": [],
   "source": [
    "with open('C:/myPyCode/myTextFile2.txt','w') as  f:\n",
    "    f.write('File read/write test2: line1\\n')\n",
    "    f.write('File read/write test2: line2\\n')\n",
    "    f.write('File read/write test2: line3\\n')"
   ]
  },
  {
   "cell_type": "code",
   "execution_count": 55,
   "id": "3d05ba72",
   "metadata": {},
   "outputs": [
    {
     "name": "stdout",
     "output_type": "stream",
     "text": [
      "File read/write test2: line1\n",
      "File read/write test2: line2\n",
      "File read/write test2: line3\n",
      "\n"
     ]
    }
   ],
   "source": [
    "with open('C:/myPyCode/myTextFile2.txt') as  f:\n",
    "    file_string = f.read()\n",
    "    print(file_string)"
   ]
  },
  {
   "cell_type": "code",
   "execution_count": 56,
   "id": "f923bfea",
   "metadata": {},
   "outputs": [],
   "source": [
    "with open('C:/myPyCode/myTextFile3.txt','w') as  f: # 파일을 쓰기모드로 열기\n",
    "    for num in range(1,6):                          # for 문에서 1~5까지 반복\n",
    "        format_string = \"3 x {0} = {1}\\n\".format(num,3*num) #문자열 생성\n",
    "        f.write(format_string)                       # 파일에 문자열 쓰기"
   ]
  },
  {
   "cell_type": "code",
   "execution_count": 57,
   "id": "dc27fd15",
   "metadata": {},
   "outputs": [
    {
     "name": "stdout",
     "output_type": "stream",
     "text": [
      "3 x 1 = 3\n",
      "3 x 2 = 6\n",
      "3 x 3 = 9\n",
      "3 x 4 = 12\n",
      "3 x 5 = 15\n"
     ]
    }
   ],
   "source": [
    "with open('C:/myPyCode/myTextFile3.txt') as  f:      # 파일을 읽기 모드로 열기 \n",
    "    for line in f:                                    # 파일 전체를 읽고 리스트 항목을 line에 할당\n",
    "        print(line, end=\"\")                            # line 할당된 문자열 출력(줄 바꿈 안함)"
   ]
  }
 ],
 "metadata": {
  "kernelspec": {
   "display_name": "Python 3 (ipykernel)",
   "language": "python",
   "name": "python3"
  },
  "language_info": {
   "codemirror_mode": {
    "name": "ipython",
    "version": 3
   },
   "file_extension": ".py",
   "mimetype": "text/x-python",
   "name": "python",
   "nbconvert_exporter": "python",
   "pygments_lexer": "ipython3",
   "version": "3.9.13"
  }
 },
 "nbformat": 4,
 "nbformat_minor": 5
}
