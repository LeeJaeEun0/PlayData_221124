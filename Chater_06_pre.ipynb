{
 "cells": [
  {
   "cell_type": "code",
   "execution_count": null,
   "id": "3048cdc1",
   "metadata": {},
   "outputs": [
    {
     "name": "stdout",
     "output_type": "stream",
     "text": [
      "MBTI 정보\n",
      "당신의 mbti를 한글자씩 입력하세요i\n",
      "당신의 mbti를 한글자씩 입력하세요n\n",
      "당신의 mbti를 한글자씩 입력하세요f\n",
      "당신의 mbti를 한글자씩 입력하세요p\n",
      "['i', 'n', 'f', 'p']\n",
      "MBTI 정보\n",
      "당신의 mbti를 한글자씩 입력하세요s\n",
      "당신의 mbti를 한글자씩 입력하세요df\n",
      "당신의 mbti를 한글자씩 입력하세요see\n",
      "당신의 mbti를 한글자씩 입력하세요er\n",
      "['s', 'df', 'see', 'er']\n",
      "오류 - 잘못 입력하셨습니다.\n",
      "MBTI 정보\n"
     ]
    }
   ],
   "source": [
    " # 16가지인데 어떻게 조합해야할까? + 찾기를 한다면 어떻게 비교할까?\n",
    "j = 0\n",
    "cat = ['','','','']\n",
    "while True:\n",
    "    print(\"MBTI 정보\")\n",
    "    for i in range(0,4,1):\n",
    "        j=j+1\n",
    "        cat[i] = input(\"당신의 mbti를 한글자씩 입력하세요\")\n",
    "    print(cat)\n",
    "    # 입력에 오류 있는지 찾기\n",
    "    if cat[0] == 'E' or cat[0] == 'e' or cat[0] == \"I\" or cat[0] == 'i' :\n",
    "            check='y'\n",
    "    elif cat[1] == 'S' or cat[1] == 's' or cat[1] == \"N\" or cat[1] == 'n' :\n",
    "            check='y'\n",
    "    elif cat[2] == 'F' or cat[2] == 'f' or cat[2] == \"T\" or cat[2] == 't' :\n",
    "            check='y'\n",
    "    elif cat[3] == 'J' or cat[3] == 'j' or cat[3] == \"P\" or cat[3] == 'p' :\n",
    "            check='y'\n",
    "    else :\n",
    "        print(\"오류 - 잘못 입력하셨습니다.\")\n",
    "        continue\n",
    "    # 입력에 오류가 없다면  mbti 유형 찾기\n",
    "    "
   ]
  },
  {
   "cell_type": "code",
   "execution_count": null,
   "id": "c4883318",
   "metadata": {},
   "outputs": [],
   "source": []
  }
 ],
 "metadata": {
  "kernelspec": {
   "display_name": "Python 3 (ipykernel)",
   "language": "python",
   "name": "python3"
  },
  "language_info": {
   "codemirror_mode": {
    "name": "ipython",
    "version": 3
   },
   "file_extension": ".py",
   "mimetype": "text/x-python",
   "name": "python",
   "nbconvert_exporter": "python",
   "pygments_lexer": "ipython3",
   "version": "3.9.13"
  }
 },
 "nbformat": 4,
 "nbformat_minor": 5
}
